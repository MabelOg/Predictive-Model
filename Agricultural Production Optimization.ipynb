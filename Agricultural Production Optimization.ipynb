{
 "cells": [
  {
   "cell_type": "markdown",
   "id": "c7195c40",
   "metadata": {},
   "source": [
    "# Problem Statement"
   ]
  },
  {
   "cell_type": "markdown",
   "id": "01cb4aba",
   "metadata": {},
   "source": [
    "Agriculture is dependent on climatic and soil conditions as well as other factors. Weather conditions are unpredictable and different for different regions. This makes it difficult for agricultural producers referred to as users in the rest of the report, to properly utilize and optimize their lands for crop cultivation.\n",
    "\n",
    "Therefore, this project aims to develop a robust predictive model that suggests the most suitable crops to grow based on climatic and soil conditions in order to provide data-driven insight, as a result, enable agricultural producers make informed decisions for optimizing agricultural productivity and efficient crop cultivation."
   ]
  },
  {
   "cell_type": "markdown",
   "id": "f6ad7cd6",
   "metadata": {},
   "source": [
    "# Business Impact"
   ]
  },
  {
   "cell_type": "markdown",
   "id": "b9e6619f",
   "metadata": {},
   "source": [
    "This project aims to address the challenge of determining the most suitable crops to cultivate based on specific climatic and soil conditions. By utilizing advanced predictive modeling techniques, the proposed solution will provide accurate and data-driven recommendations, enabling farmers and agricultural stakeholders to make informed decisions regarding crop selection for cultivation and improve productivity. This predictive model will take into account various environmental factors such as temperature, rainfall, soil composition, and nutrient levels, and provide reliable suggestions on the crops that are most likely to thrive under those conditions."
   ]
  },
  {
   "cell_type": "markdown",
   "id": "3fd9ec74",
   "metadata": {},
   "source": [
    "# Objective"
   ]
  },
  {
   "cell_type": "markdown",
   "id": "abe498ae",
   "metadata": {},
   "source": [
    "1. Collect and analyze comprehensive climatic and soil data from reliable source.\n",
    "2. Develop an efficient predictive model that utilizes machine learning algorithms to correlate climatic and soil variables with crop type.\n",
    "3. Train the model using historical data on crop yields and environmental conditions to establish accurate patterns and relationships.\n",
    "4. Validate the model's predictions by comparing them with real-world agricultural practices and outcomes.\n",
    "5. Design a user-friendly and interactive interface that allows farmers to input their specific climatic and soil parameters and receive personalized crop recommendations.\n",
    "6. Provide documentation and support to ensure easy adoption of the predictive model in agricultural communities."
   ]
  },
  {
   "cell_type": "markdown",
   "id": "4781034c",
   "metadata": {},
   "source": [
    "# The Dataset"
   ]
  },
  {
   "cell_type": "markdown",
   "id": "1a2416cb",
   "metadata": {},
   "source": [
    "The dataset comprises columns providing information on soil condition requirements for various crops. These columns include the ratios of Nitrogen, Phosphorus, Potassium, and Soil pH. Additionally, the dataset contains data on the climatic conditions necessary for optimal crop growth, such as Temperature, Humidity, and Rainfall. Lastly, the dataset includes a label column consisting of 22 distinct crops, such as Rice, Banana, Grapes, Mango, among others; enabling the classification and analysis of crop types based on the provided data.\n",
    "\n",
    "The project aims to utilize the dataset's valuable information on soil and climatic conditions to train a machine learning predictive model. This model will employ advanced algorithms to analyze the relationships between soil composition, climatic factors, and crop suitability. By leveraging this model, users will be able to input specific soil and climatic parameters, and receive accurate predictions on the crop that is most likely to thrive under those conditions. Ultimately, the goal is to empower farmers and agricultural stakeholders with a reliable tool for informed decision-making regarding crop selection based on soil and climatic conditions."
   ]
  },
  {
   "cell_type": "markdown",
   "id": "4d3b978f",
   "metadata": {},
   "source": [
    "# Import Necessary Libraries"
   ]
  },
  {
   "cell_type": "code",
   "execution_count": 1,
   "id": "21d420a0",
   "metadata": {},
   "outputs": [],
   "source": [
    "# For Data Manipulation\n",
    "import numpy as np\n",
    "import pandas as pd\n",
    "\n",
    "# For Data Visualization\n",
    "import seaborn as sns\n",
    "import matplotlib.pyplot as plt\n",
    "\n",
    "# For Interactivity\n",
    "from ipywidgets import interact\n",
    "\n",
    "# For Implementing the Machine Learning Algorithm\n",
    "from sklearn.cluster import KMeans\n",
    "from sklearn.model_selection import train_test_split\n",
    "from sklearn.linear_model import LogisticRegression\n",
    "from sklearn.metrics import accuracy_score, classification_report, confusion_matrix\n",
    "\n",
    "import warnings\n",
    "warnings.filterwarnings('ignore')"
   ]
  },
  {
   "cell_type": "code",
   "execution_count": 2,
   "id": "bc2eba56",
   "metadata": {},
   "outputs": [],
   "source": [
    "# Read the dataset\n",
    "data = pd.read_csv('Agriculture.csv')"
   ]
  },
  {
   "cell_type": "code",
   "execution_count": 3,
   "id": "260b76e9",
   "metadata": {},
   "outputs": [
    {
     "data": {
      "text/plain": [
       "(2200, 8)"
      ]
     },
     "execution_count": 3,
     "metadata": {},
     "output_type": "execute_result"
    }
   ],
   "source": [
    "# Check data shape\n",
    "data.shape"
   ]
  },
  {
   "cell_type": "markdown",
   "id": "d3fc6915",
   "metadata": {},
   "source": [
    "The dataset comprises 2200 rows and 8 columns containing information on soil and climatic conditions of crops."
   ]
  },
  {
   "cell_type": "code",
   "execution_count": 4,
   "id": "fc4e0e20",
   "metadata": {
    "scrolled": true
   },
   "outputs": [
    {
     "data": {
      "text/html": [
       "<div>\n",
       "<style scoped>\n",
       "    .dataframe tbody tr th:only-of-type {\n",
       "        vertical-align: middle;\n",
       "    }\n",
       "\n",
       "    .dataframe tbody tr th {\n",
       "        vertical-align: top;\n",
       "    }\n",
       "\n",
       "    .dataframe thead th {\n",
       "        text-align: right;\n",
       "    }\n",
       "</style>\n",
       "<table border=\"1\" class=\"dataframe\">\n",
       "  <thead>\n",
       "    <tr style=\"text-align: right;\">\n",
       "      <th></th>\n",
       "      <th>N</th>\n",
       "      <th>P</th>\n",
       "      <th>K</th>\n",
       "      <th>temperature</th>\n",
       "      <th>humidity</th>\n",
       "      <th>ph</th>\n",
       "      <th>rainfall</th>\n",
       "      <th>label</th>\n",
       "    </tr>\n",
       "  </thead>\n",
       "  <tbody>\n",
       "    <tr>\n",
       "      <th>0</th>\n",
       "      <td>90</td>\n",
       "      <td>42</td>\n",
       "      <td>43</td>\n",
       "      <td>20.879744</td>\n",
       "      <td>82.002744</td>\n",
       "      <td>6.502985</td>\n",
       "      <td>202.935536</td>\n",
       "      <td>rice</td>\n",
       "    </tr>\n",
       "    <tr>\n",
       "      <th>1</th>\n",
       "      <td>85</td>\n",
       "      <td>58</td>\n",
       "      <td>41</td>\n",
       "      <td>21.770462</td>\n",
       "      <td>80.319644</td>\n",
       "      <td>7.038096</td>\n",
       "      <td>226.655537</td>\n",
       "      <td>rice</td>\n",
       "    </tr>\n",
       "    <tr>\n",
       "      <th>2</th>\n",
       "      <td>60</td>\n",
       "      <td>55</td>\n",
       "      <td>44</td>\n",
       "      <td>23.004459</td>\n",
       "      <td>82.320763</td>\n",
       "      <td>7.840207</td>\n",
       "      <td>263.964248</td>\n",
       "      <td>rice</td>\n",
       "    </tr>\n",
       "    <tr>\n",
       "      <th>3</th>\n",
       "      <td>74</td>\n",
       "      <td>35</td>\n",
       "      <td>40</td>\n",
       "      <td>26.491096</td>\n",
       "      <td>80.158363</td>\n",
       "      <td>6.980401</td>\n",
       "      <td>242.864034</td>\n",
       "      <td>rice</td>\n",
       "    </tr>\n",
       "    <tr>\n",
       "      <th>4</th>\n",
       "      <td>78</td>\n",
       "      <td>42</td>\n",
       "      <td>42</td>\n",
       "      <td>20.130175</td>\n",
       "      <td>81.604873</td>\n",
       "      <td>7.628473</td>\n",
       "      <td>262.717340</td>\n",
       "      <td>rice</td>\n",
       "    </tr>\n",
       "  </tbody>\n",
       "</table>\n",
       "</div>"
      ],
      "text/plain": [
       "    N   P   K  temperature   humidity        ph    rainfall label\n",
       "0  90  42  43    20.879744  82.002744  6.502985  202.935536  rice\n",
       "1  85  58  41    21.770462  80.319644  7.038096  226.655537  rice\n",
       "2  60  55  44    23.004459  82.320763  7.840207  263.964248  rice\n",
       "3  74  35  40    26.491096  80.158363  6.980401  242.864034  rice\n",
       "4  78  42  42    20.130175  81.604873  7.628473  262.717340  rice"
      ]
     },
     "execution_count": 4,
     "metadata": {},
     "output_type": "execute_result"
    }
   ],
   "source": [
    "# Check data\n",
    "data.head()"
   ]
  },
  {
   "cell_type": "markdown",
   "id": "44c249ab",
   "metadata": {},
   "source": [
    "Machine learning algorithms require complete and consistent data to effectively learn patterns and make accurate predictions. Missing values can disrupt the learning process and lead to unreliable results. Hence, it is crucial to identify and handle missing values appropriately. The next step in this process involves performing a comprehensive assessment of the dataset to identify any missing values present in the columns. This process will enable the implementation of suitable strategies, such as imputation or removal of missing values, to ensure the dataset is complete and ready for further analysis and modeling."
   ]
  },
  {
   "cell_type": "code",
   "execution_count": 5,
   "id": "9732ac11",
   "metadata": {},
   "outputs": [
    {
     "data": {
      "text/plain": [
       "N              0\n",
       "P              0\n",
       "K              0\n",
       "temperature    0\n",
       "humidity       0\n",
       "ph             0\n",
       "rainfall       0\n",
       "label          0\n",
       "dtype: int64"
      ]
     },
     "execution_count": 5,
     "metadata": {},
     "output_type": "execute_result"
    }
   ],
   "source": [
    "#Check for missing values\n",
    "data.isnull().sum()"
   ]
  },
  {
   "cell_type": "markdown",
   "id": "5ca0c72c",
   "metadata": {},
   "source": [
    "The dataset looks well structured and free of any missing values, indicating a clean and complete dataset."
   ]
  },
  {
   "cell_type": "code",
   "execution_count": 6,
   "id": "60d7c16c",
   "metadata": {
    "scrolled": true
   },
   "outputs": [
    {
     "data": {
      "text/plain": [
       "rice           100\n",
       "maize          100\n",
       "jute           100\n",
       "cotton         100\n",
       "coconut        100\n",
       "papaya         100\n",
       "orange         100\n",
       "apple          100\n",
       "muskmelon      100\n",
       "watermelon     100\n",
       "grapes         100\n",
       "mango          100\n",
       "banana         100\n",
       "pomegranate    100\n",
       "lentil         100\n",
       "blackgram      100\n",
       "mungbean       100\n",
       "mothbeans      100\n",
       "pigeonpeas     100\n",
       "kidneybeans    100\n",
       "chickpea       100\n",
       "coffee         100\n",
       "Name: label, dtype: int64"
      ]
     },
     "execution_count": 6,
     "metadata": {},
     "output_type": "execute_result"
    }
   ],
   "source": [
    "#Check for distinct crops in the dataset\n",
    "data['label'].value_counts()"
   ]
  },
  {
   "cell_type": "code",
   "execution_count": 7,
   "id": "46c11696",
   "metadata": {
    "scrolled": false
   },
   "outputs": [
    {
     "name": "stdout",
     "output_type": "stream",
     "text": [
      "The average Nitrogen in the soil is: 50.55\n",
      "The average Phosphorus in the soil is: 53.36\n",
      "The average Potassium in the soil is: 48.15\n",
      "The average temperature(˚C) is: 25.62\n",
      "The average % humidity is: 71.48\n",
      "The average pH level of soil is: 6.47\n",
      "The average rainfall(mm) is: 103.46\n"
     ]
    }
   ],
   "source": [
    "# Check summary for all crops\n",
    "print(f\"The average Nitrogen in the soil is: {data['N'].mean():.2f}\")\n",
    "print(f\"The average Phosphorus in the soil is: {data['P'].mean():.2f}\")\n",
    "print(f\"The average Potassium in the soil is: {data['K'].mean():.2f}\")\n",
    "print(f\"The average temperature(˚C) is: {data['temperature'].mean():.2f}\")\n",
    "print(f\"The average % humidity is: {data['humidity'].mean():.2f}\")\n",
    "print(f\"The average pH level of soil is: {data['ph'].mean():.2f}\")\n",
    "print(f\"The average rainfall(mm) is: {data['rainfall'].mean():.2f}\")"
   ]
  },
  {
   "cell_type": "markdown",
   "id": "1d8da77b",
   "metadata": {},
   "source": [
    "# Analyzing Soil and Climatic Conditions for Various Crops"
   ]
  },
  {
   "cell_type": "markdown",
   "id": "c533ec21",
   "metadata": {},
   "source": [
    "To enhance user experience and facilitate the practical application of the predictive model, an interactive function will be created. This function will accept input data, including soil and climatic conditions, and utilize the trained predictive model to generate recommendations for suitable crops. The function will ensure that the output results are presented in a well-formatted manner, providing easily understandable and actionable information for users."
   ]
  },
  {
   "cell_type": "code",
   "execution_count": 8,
   "id": "22d7d4d2",
   "metadata": {
    "scrolled": false
   },
   "outputs": [
    {
     "data": {
      "application/vnd.jupyter.widget-view+json": {
       "model_id": "1e6e81557b1a4cf18147bf74ff9893d6",
       "version_major": 2,
       "version_minor": 0
      },
      "text/plain": [
       "interactive(children=(Dropdown(description='crops', options=('rice', 'maize', 'jute', 'cotton', 'coconut', 'pa…"
      ]
     },
     "metadata": {},
     "output_type": "display_data"
    }
   ],
   "source": [
    "# Find the soil and climatic condition for each crop\n",
    "@interact\n",
    "def summary(crops = list(data['label'].value_counts().index)):\n",
    "    x = data[data['label'] == crops]\n",
    "    print('--------------------------------------------')\n",
    "    print('Statistics for Nitrogen')\n",
    "    print(f'Minimum Nitrogen required: {x[\"N\"].min():.2f}')\n",
    "    print(f'Average Nitrogen required: {x[\"N\"].mean():.2f}')\n",
    "    print(f'Maximum Nitrogen required: {x[\"N\"].max():.2f}')\n",
    "    print('--------------------------------------------')\n",
    "    print('Statistics for Phosphorus')\n",
    "    print(f'Minimum Phosphorus required: {x[\"P\"].min():.2f}')\n",
    "    print(f'Average Phosphorus required: {x[\"P\"].mean():.2f}')\n",
    "    print(f'Maximum Phosphorus required: {x[\"P\"].max():.2f}')\n",
    "    print('--------------------------------------------')\n",
    "    print('Statistics for Potassium')\n",
    "    print(f'Minimum Potassium required: {x[\"K\"].min():.2f}')\n",
    "    print(f'Average Potassium required: {x[\"K\"].mean():.2f}')\n",
    "    print(f'Maximum Potassium required: {x[\"K\"].max():.2f}')\n",
    "    print('--------------------------------------------')\n",
    "    print('Statistics for Temperature')\n",
    "    print(f'Minimum Temperature required: {x[\"temperature\"].min():.2f}')\n",
    "    print(f'Average Temperature required: {x[\"temperature\"].mean():.2f}')\n",
    "    print(f'Maximum Temperature required: {x[\"temperature\"].max():.2f}')\n",
    "    print('--------------------------------------------')\n",
    "    print('Statistics for Humidity')\n",
    "    print(f'Minimum Humidity required: {x[\"humidity\"].min():.2f}')\n",
    "    print(f'Average Humidity required: {x[\"humidity\"].mean():.2f}')\n",
    "    print(f'Maximum Humidity required: {x[\"humidity\"].max():.2f}')\n",
    "    print('--------------------------------------------')\n",
    "    print('Statistics for pH Level')\n",
    "    print(f'Minimum pH Level required: {x[\"ph\"].min():.2f}')\n",
    "    print(f'Average pH Level required: {x[\"ph\"].mean():.2f}')\n",
    "    print(f'Maximum pH Level required: {x[\"ph\"].max():.2f}')\n",
    "    print('--------------------------------------------')\n",
    "    print('Statistics for Rainfall')\n",
    "    print(f'Minimum Rainfall required: {x[\"rainfall\"].min():.2f}')\n",
    "    print(f'Average Rainfall required: {x[\"rainfall\"].mean():.2f}')\n",
    "    print(f'Maximum Rainfall required: {x[\"rainfall\"].max():.2f}')"
   ]
  },
  {
   "cell_type": "markdown",
   "id": "b5058fcf",
   "metadata": {},
   "source": [
    "The interactive function enables user interaction with the code, allowing selection of the soil and climatic requirements for any crop of interest from the provided list. For example, for mango crop, analysis reveals that the minimum temperature requirement is 27˚C, the maximum temperature requirement is 31.21˚C, and the maximum temperature requirement is 35.99˚C. These temperature requirements indicate that mango is a crop suited for warmer climates, suggesting it is typically grown during the summer season. Additionally, the rainfall requirement for rice is observed to be substantial indicating that rice cultivation thrives in climatic conditions with high rainfall, typically during the rainy season."
   ]
  },
  {
   "cell_type": "markdown",
   "id": "a449acf5",
   "metadata": {},
   "source": [
    "# Comparing Crop Requirements to Average Conditions: Evaluating the Average Requirements of Each Crop"
   ]
  },
  {
   "cell_type": "code",
   "execution_count": 9,
   "id": "bfc734d8",
   "metadata": {},
   "outputs": [
    {
     "data": {
      "application/vnd.jupyter.widget-view+json": {
       "model_id": "cc176a8c795049e5868cad03ed25cd9e",
       "version_major": 2,
       "version_minor": 0
      },
      "text/plain": [
       "interactive(children=(Dropdown(description='conditions', options=('N', 'P', 'K', 'temperature', 'ph', 'humidit…"
      ]
     },
     "metadata": {},
     "output_type": "display_data"
    }
   ],
   "source": [
    "# Comparing Crop Requirements to Average Conditions\n",
    "@interact\n",
    "def compare(conditions = ['N', 'P', 'K', 'temperature', 'ph', 'humidity', 'rainfall']):\n",
    "    print(f'Average Value for {conditions} is {data[conditions].mean():.2f}')\n",
    "    print('--------------------------------------------')\n",
    "    print(f'Rice: {data[data[\"label\"] == \"rice\"][conditions].mean():.2f}')\n",
    "    print(f'Maize: {data[data[\"label\"] == \"maize\"][conditions].mean():.2f}')\n",
    "    print(f'Jute: {data[data[\"label\"] == \"jute\"][conditions].mean():.2f}')\n",
    "    print(f'Cotton: {data[data[\"label\"] == \"cotton\"][conditions].mean():.2f}')\n",
    "    print(f'Coconut: {data[data[\"label\"] == \"coconut\"][conditions].mean():.2f}')\n",
    "    print(f'Papaya: {data[data[\"label\"] == \"papaya\"][conditions].mean():.2f}')\n",
    "    print(f'Orange: {data[data[\"label\"] == \"orange\"][conditions].mean():.2f}')\n",
    "    print(f'Apple: {data[data[\"label\"] == \"apple\"][conditions].mean():.2f}')\n",
    "    print(f'Muskmelon: {data[data[\"label\"] == \"muskmelon\"][conditions].mean():.2f}')\n",
    "    print(f'Watermelon: {data[data[\"label\"] == \"watermelon\"][conditions].mean():.2f}')\n",
    "    print(f'Grapes: {data[data[\"label\"] == \"grapes\"][conditions].mean():.2f}')\n",
    "    print(f'Mango: {data[data[\"label\"] == \"mango\"][conditions].mean():.2f}')\n",
    "    print(f'Banana: {data[data[\"label\"] == \"banana\"][conditions].mean():.2f}')\n",
    "    print(f'Pomegranate: {data[data[\"label\"] == \"pomegranate\"][conditions].mean():.2f}')\n",
    "    print(f'Lentil: {data[data[\"label\"] == \"lentil\"][conditions].mean():.2f}')\n",
    "    print(f'Blackgram: {data[data[\"label\"] == \"blackgram\"][conditions].mean():.2f}')\n",
    "    print(f'Mungbea : {data[data[\"label\"] == \"mungbean\"][conditions].mean():.2f}')\n",
    "    print(f'Mothbeans: {data[data[\"label\"] == \"mothbeans\"][conditions].mean():.2f}')\n",
    "    print(f'Pigeonpeas: {data[data[\"label\"] == \"pigeonpeas\"][conditions].mean():.2f}')\n",
    "    print(f'Kidneybeans: {data[data[\"label\"] == \"kidneybeans\"][conditions].mean():.2f}')\n",
    "    print(f'Chickpea: {data[data[\"label\"] == \"chickpea\"][conditions].mean():.2f}')\n",
    "    print(f'Coffee: {data[data[\"label\"] == \"coffee\"][conditions].mean():.2f}')\n"
   ]
  },
  {
   "cell_type": "markdown",
   "id": "3748eef2",
   "metadata": {},
   "source": [
    "Within the function, the climatic and soil conditions have been explicitly specified as parameters to enable a targeted comparison of crops. These specified conditions serve as the basis for assessing and contrasting the requirements of various crops. After specifying the conditions, the code proceeds to calculate and display the average requirements for each crop. This involves analyzing the relevant data pertaining to climatic and soil requirements for each crop in the dataset.\n",
    "Again we see that rice requires heavy rainfall among the other crops listed. On the other hand, fruits like muskmelon and watermelon exhibit contrasting requirements when it comes to rainfall. These fruits can thrive with minimal rainfall, unlike rice. They are comparatively more adaptable to drier conditions, making them resilient choices for cultivation in areas with limited rainfall or where irrigation systems are available. This aligns with the knowledge that cooler temperatures and excessive rainfall can impede growth and maturity of watermelon fruit."
   ]
  },
  {
   "cell_type": "markdown",
   "id": "6e2c2642",
   "metadata": {},
   "source": [
    "# Analyzing Crops: Below-Average and Above-Average Soil/Climatic Requirements"
   ]
  },
  {
   "cell_type": "markdown",
   "id": "4deaf0f9",
   "metadata": {},
   "source": [
    "To further improve the analysis and make it more intuitive, an additional step will be taken to categorize crops based on their soil and climatic requirements. This categorization will involve segregating crops into two groups: those with below-average requirements and those with above-average requirements for the specified soil and climatic conditions.\n",
    "\n",
    "By categorizing crops in this manner, the analysis will provide a clearer distinction between crops that have relatively lower demands and those that have higher demands in terms of soil and climatic factors. Crops with below-average requirements can be considered as potentially more adaptable and flexible, making them suitable choices for regions with less optimal soil or climatic conditions. On the other hand, crops with above-average requirements may have specific environmental needs that need to be met for successful cultivation."
   ]
  },
  {
   "cell_type": "code",
   "execution_count": 10,
   "id": "ea8ec392",
   "metadata": {
    "scrolled": false
   },
   "outputs": [
    {
     "data": {
      "application/vnd.jupyter.widget-view+json": {
       "model_id": "be9ed03f734f41d590fc285053ec9625",
       "version_major": 2,
       "version_minor": 0
      },
      "text/plain": [
       "interactive(children=(Dropdown(description='conditions', options=('N', 'P', 'K', 'temperature', 'ph', 'humidit…"
      ]
     },
     "metadata": {},
     "output_type": "display_data"
    }
   ],
   "source": [
    "# Specifying function for more intuitiveness\n",
    "@interact\n",
    "def compare(conditions = ['N', 'P', 'K', 'temperature', 'ph', 'humidity', 'rainfall']):\n",
    "    print('Crops which require below-average', conditions, ':\\n')\n",
    "    print(data[data[conditions] <= data[conditions].mean()]['label'].unique())\n",
    "    print('--------------------------------------------')\n",
    "    print('Crops which require above-average', conditions, ':\\n')\n",
    "    print(data[data[conditions] > data[conditions].mean()]['label'].unique())"
   ]
  },
  {
   "cell_type": "markdown",
   "id": "38e0519e",
   "metadata": {},
   "source": [
    "# Visualization:  Distribution of Conditions for All Crops"
   ]
  },
  {
   "cell_type": "markdown",
   "id": "655d8f3c",
   "metadata": {},
   "source": [
    "This section delves into the distribution of soil and climatic conditions for all crops under consideration. It presents a comprehensive overview of each column's potential values along with their respective frequencies. This visualization aids in identifying anomalies or outliers within the data and provides insights into the overall patterns. Analyzing the distribution of these conditions throughout the crop dataset empowers users to grasp the spectrum of conditions conducive to optimal growth and productivity for each crop."
   ]
  },
  {
   "cell_type": "code",
   "execution_count": 11,
   "id": "a7e0229b",
   "metadata": {
    "scrolled": false
   },
   "outputs": [
    {
     "data": {
      "image/png": "[encoded data removed]",
      "text/plain": [
       "<Figure size 1500x700 with 7 Axes>"
      ]
     },
     "metadata": {},
     "output_type": "display_data"
    }
   ],
   "source": [
    "# Distribution of Soil and Climatic Conditions\n",
    "plt.rcParams['figure.figsize'] = (15, 7)\n",
    "\n",
    "plt.subplot(2, 4, 1)\n",
    "sns.histplot(data['N'], color='green', kde=True)\n",
    "plt.xlabel('Ratio of Nitrogen', fontsize=12)\n",
    "plt.grid()\n",
    "\n",
    "plt.subplot(2, 4, 2)\n",
    "sns.histplot(data['P'], color='lightgrey', kde=True)\n",
    "plt.xlabel('Ratio of Phosphorus', fontsize=12)\n",
    "plt.grid()\n",
    "\n",
    "plt.subplot(2, 4, 3)\n",
    "sns.histplot(data['K'], color='darkblue', kde=True)\n",
    "plt.xlabel('Ratio of Potassium', fontsize=12)\n",
    "plt.grid()\n",
    "\n",
    "plt.subplot(2, 4, 4)\n",
    "sns.histplot(data['temperature'], color='red', kde=True)\n",
    "plt.xlabel('Ratio of Temperature', fontsize=12)\n",
    "plt.grid()\n",
    "\n",
    "plt.subplot(2, 4, 5)\n",
    "sns.histplot(data['humidity'], color='skyblue', kde=True)\n",
    "plt.xlabel('Ratio of Humidity', fontsize=12)\n",
    "plt.grid()\n",
    "\n",
    "plt.subplot(2, 4, 6)\n",
    "sns.histplot(data['ph'], color='black', kde=True)\n",
    "plt.xlabel('Ratio of pH Level', fontsize=12)\n",
    "plt.grid()\n",
    "\n",
    "plt.subplot(2, 4, 7)\n",
    "sns.histplot(data['rainfall'], color='purple', kde=True)\n",
    "plt.xlabel('Ratio of Rainfall', fontsize=12)\n",
    "plt.grid()\n",
    "\n"
   ]
  },
  {
   "cell_type": "markdown",
   "id": "37fa6bf5",
   "metadata": {},
   "source": [
    "The distribution visualization reveals that certain crops exhibit a notable demand for a substantial proportion of Phosphorus, Potassium and rainfall evident from the highly skewed distribution charts for these conditions. Additionally, distinct crops demonstrate varying preferences for temperature and pH levels, with some requiring higher values while others thrive in lower ranges for optimal growth."
   ]
  },
  {
   "cell_type": "code",
   "execution_count": 12,
   "id": "3bea774d",
   "metadata": {
    "scrolled": false
   },
   "outputs": [
    {
     "name": "stdout",
     "output_type": "stream",
     "text": [
      "Some Interesting Patterns\n",
      "--------------------------------------------\n",
      "Crops with High soil Nitrogen requirement ['cotton']\n",
      "Crops with High soil Phosphorus requirement ['grapes' 'apple']\n",
      "Crops with High soil Potassium requirement ['grapes' 'apple']\n",
      "Crops with very Low Temperature requirement ['grapes']\n",
      "Crops with very High Temperature requirement ['grapes' 'papaya']\n",
      "Crops with very Low Humidity requirement ['chickpea' 'kidneybeans']\n",
      "Crops with very Low pH Level requirement ['mothbeans']\n",
      "Crops with very High pH Level requirement ['mothbeans']\n",
      "Crops with very Low rainfall requirement ['mothbeans' 'mungbean' 'lentil' 'watermelon' 'muskmelon' 'papaya']\n",
      "Crops with very High rainfall requirement ['rice' 'papaya' 'coconut']\n"
     ]
    }
   ],
   "source": [
    "# Finding Interesting Patterns by setting Thresholds\n",
    "print('Some Interesting Patterns')\n",
    "print('--------------------------------------------')\n",
    "print('Crops with High soil Nitrogen requirement', data[data['N'] > 120]['label'].unique())\n",
    "print('Crops with High soil Phosphorus requirement', data[data['P'] > 100]['label'].unique())\n",
    "print('Crops with High soil Potassium requirement', data[data['K'] > 200]['label'].unique())\n",
    "print('Crops with very Low Temperature requirement', data[data['temperature'] < 10]['label'].unique())\n",
    "print('Crops with very High Temperature requirement', data[data['temperature'] > 40]['label'].unique())\n",
    "print('Crops with very Low Humidity requirement', data[data['humidity'] < 20]['label'].unique())\n",
    "print('Crops with very Low pH Level requirement', data[data['ph'] < 4]['label'].unique())\n",
    "print('Crops with very High pH Level requirement', data[data['ph'] > 9]['label'].unique())\n",
    "print('Crops with very Low rainfall requirement', data[data['rainfall'] < 50]['label'].unique())\n",
    "print('Crops with very High rainfall requirement', data[data['rainfall'] > 200]['label'].unique())"
   ]
  },
  {
   "cell_type": "markdown",
   "id": "397f2239",
   "metadata": {},
   "source": [
    "The provided code allows us to filter out crops based on their extreme soil and climatic conditions. By setting minimum and maximum thresholds for each condition, we can identify crops that meet these specific requirements.\n",
    "\n",
    "For example, cotton requires high soil and climatic conditions. Grapes and apples have a very high requirement for phosphorus and potassium soil nutrients. Rice and coconut thrive in high-temperature environments. On the other hand, crops like mothbeans, mungbeans, lentils, watermelons, and muskmelons are adapted to low rainfall conditions. \n",
    "\n",
    "Papaya demonstrates remarkable adaptability to varying rainfall conditions, showcasing its versatility. This adaptability can be attributed to the inherent resilience of the papaya fruit, allowing it to adjust its growth patterns to suit different environmental conditions. As a result, papaya can flourish in environments with both limited and abundant rainfall. It's worth noting that mothbeans can also grow in both low and high soil pH levels."
   ]
  },
  {
   "cell_type": "markdown",
   "id": "ce1b0f8f",
   "metadata": {},
   "source": [
    "# Optimal Crop Selection for Different Seasons: Summer, Winter, and Rainy Season"
   ]
  },
  {
   "cell_type": "code",
   "execution_count": 13,
   "id": "691920ba",
   "metadata": {},
   "outputs": [
    {
     "name": "stdout",
     "output_type": "stream",
     "text": [
      "Crops Suitable for Summer: ['pigeonpeas' 'mothbeans' 'blackgram' 'mango' 'grapes' 'orange' 'papaya']\n",
      "----------------------------------------------------------------------------------------------------\n",
      "Crops Suitable for Winter: ['maize' 'pigeonpeas' 'lentil' 'pomegranate' 'grapes' 'orange']\n",
      "----------------------------------------------------------------------------------------------------\n",
      "Crops Suitable for Rainy Season: ['rice' 'papaya' 'coconut']\n"
     ]
    }
   ],
   "source": [
    "#Summer, winter and rainy season crops\n",
    "\n",
    "# Crops Suitable for Summer\n",
    "summer_crops = data[(data['temperature'] > 30) & (data['humidity'] > 50)]['label'].unique()\n",
    "\n",
    "# Crops Suitable for Winter\n",
    "winter_crops = data[(data['temperature'] < 20) & (data['humidity'] > 30)]['label'].unique()\n",
    "\n",
    "# Crops Suitable for Rainy Season\n",
    "rainy_crops = data[(data['rainfall'] > 200) & (data['humidity'] > 30)]['label'].unique()\n",
    "\n",
    "# Display the results\n",
    "print(\"Crops Suitable for Summer:\", summer_crops)\n",
    "print('----------------------------------------------------------------------------------------------------')\n",
    "print(\"Crops Suitable for Winter:\", winter_crops)\n",
    "print('----------------------------------------------------------------------------------------------------')\n",
    "print(\"Crops Suitable for Rainy Season:\", rainy_crops)\n"
   ]
  },
  {
   "cell_type": "markdown",
   "id": "55c3b387",
   "metadata": {},
   "source": [
    "The crops that are suitable for the summer season are characterized by high temperature (>30˚C) and high humidity (>50%). Result shows that pigeonpeas, mothbeans, blackgram, mango, grapes, orange and papaya are best suited for growing in hot and humid conditions of the summer season.\n",
    "Crops such as maize, pigeonpeas, lentil, pomegranate, grapes and orange are suitable for the winter season, characterized by low temperature (<20˚C) and moderate humidity (>30%). \n",
    "The crops that are suitable for the rainy season, characterized by high rainfall (>200 mm) and moderate humidity (>30%) includes rice, papaya and coconut.\n",
    "This outcome underscores the adaptability of certain crops like pigeonpeas, grapes, orange and papaya to varying seasons throughout the year. They can thrive in different climatic conditions, making them versatile options for cultivation across multiple seasons."
   ]
  },
  {
   "cell_type": "markdown",
   "id": "76ce47be",
   "metadata": {},
   "source": [
    "# Clustering Analysis"
   ]
  },
  {
   "cell_type": "markdown",
   "id": "4d7edb50",
   "metadata": {},
   "source": [
    "Clustering analysis is a valuable technique used to classify observations into meaningful groups. In this context, the aim is to identify similar crops that can assist agricultural producers in exploring alternative farming options. This process falls under the category of unsupervised learning, meaning no predefined labels will be provided for training the data. Instead, existing patterns within the data will be leveraged to identify similarities among crops. To accomplish this, k-means clustering algorithm will be employed."
   ]
  },
  {
   "cell_type": "code",
   "execution_count": 14,
   "id": "6cbea7fe",
   "metadata": {},
   "outputs": [
    {
     "name": "stdout",
     "output_type": "stream",
     "text": [
      "(2200, 7)\n"
     ]
    },
    {
     "data": {
      "text/html": [
       "<div>\n",
       "<style scoped>\n",
       "    .dataframe tbody tr th:only-of-type {\n",
       "        vertical-align: middle;\n",
       "    }\n",
       "\n",
       "    .dataframe tbody tr th {\n",
       "        vertical-align: top;\n",
       "    }\n",
       "\n",
       "    .dataframe thead th {\n",
       "        text-align: right;\n",
       "    }\n",
       "</style>\n",
       "<table border=\"1\" class=\"dataframe\">\n",
       "  <thead>\n",
       "    <tr style=\"text-align: right;\">\n",
       "      <th></th>\n",
       "      <th>0</th>\n",
       "      <th>1</th>\n",
       "      <th>2</th>\n",
       "      <th>3</th>\n",
       "      <th>4</th>\n",
       "      <th>5</th>\n",
       "      <th>6</th>\n",
       "    </tr>\n",
       "  </thead>\n",
       "  <tbody>\n",
       "    <tr>\n",
       "      <th>0</th>\n",
       "      <td>90.0</td>\n",
       "      <td>42.0</td>\n",
       "      <td>43.0</td>\n",
       "      <td>20.879744</td>\n",
       "      <td>82.002744</td>\n",
       "      <td>6.502985</td>\n",
       "      <td>202.935536</td>\n",
       "    </tr>\n",
       "    <tr>\n",
       "      <th>1</th>\n",
       "      <td>85.0</td>\n",
       "      <td>58.0</td>\n",
       "      <td>41.0</td>\n",
       "      <td>21.770462</td>\n",
       "      <td>80.319644</td>\n",
       "      <td>7.038096</td>\n",
       "      <td>226.655537</td>\n",
       "    </tr>\n",
       "    <tr>\n",
       "      <th>2</th>\n",
       "      <td>60.0</td>\n",
       "      <td>55.0</td>\n",
       "      <td>44.0</td>\n",
       "      <td>23.004459</td>\n",
       "      <td>82.320763</td>\n",
       "      <td>7.840207</td>\n",
       "      <td>263.964248</td>\n",
       "    </tr>\n",
       "    <tr>\n",
       "      <th>3</th>\n",
       "      <td>74.0</td>\n",
       "      <td>35.0</td>\n",
       "      <td>40.0</td>\n",
       "      <td>26.491096</td>\n",
       "      <td>80.158363</td>\n",
       "      <td>6.980401</td>\n",
       "      <td>242.864034</td>\n",
       "    </tr>\n",
       "    <tr>\n",
       "      <th>4</th>\n",
       "      <td>78.0</td>\n",
       "      <td>42.0</td>\n",
       "      <td>42.0</td>\n",
       "      <td>20.130175</td>\n",
       "      <td>81.604873</td>\n",
       "      <td>7.628473</td>\n",
       "      <td>262.717340</td>\n",
       "    </tr>\n",
       "  </tbody>\n",
       "</table>\n",
       "</div>"
      ],
      "text/plain": [
       "      0     1     2          3          4         5           6\n",
       "0  90.0  42.0  43.0  20.879744  82.002744  6.502985  202.935536\n",
       "1  85.0  58.0  41.0  21.770462  80.319644  7.038096  226.655537\n",
       "2  60.0  55.0  44.0  23.004459  82.320763  7.840207  263.964248\n",
       "3  74.0  35.0  40.0  26.491096  80.158363  6.980401  242.864034\n",
       "4  78.0  42.0  42.0  20.130175  81.604873  7.628473  262.717340"
      ]
     },
     "execution_count": 14,
     "metadata": {},
     "output_type": "execute_result"
    }
   ],
   "source": [
    "# Drop 'label' column for clustering analysis\n",
    "x_data = data.drop(columns=['label']).values\n",
    "\n",
    "# Shape of x_data\n",
    "print(x_data.shape)\n",
    "\n",
    "# Convert data into dataframe\n",
    "x_data = pd.DataFrame(x_data)\n",
    "x_data.head()\n"
   ]
  },
  {
   "cell_type": "markdown",
   "id": "cce77485",
   "metadata": {},
   "source": [
    "# Elbow Plot"
   ]
  },
  {
   "cell_type": "markdown",
   "id": "a3e7ae20",
   "metadata": {},
   "source": [
    "The elbow chart will be used to determine the number of clusters."
   ]
  },
  {
   "cell_type": "code",
   "execution_count": 15,
   "id": "42135d05",
   "metadata": {
    "scrolled": false
   },
   "outputs": [
    {
     "data": {
      "image/png": "[encoded data removed]",
      "text/plain": [
       "<Figure size 800x600 with 1 Axes>"
      ]
     },
     "metadata": {},
     "output_type": "display_data"
    }
   ],
   "source": [
    "# Determine the optimal number of clusters using the elbow method\n",
    "sse = []\n",
    "\n",
    "for i in range(1, 11):\n",
    "    kmeans = KMeans(n_clusters=i, random_state=0)\n",
    "    kmeans.fit(x_data)\n",
    "    sse.append(kmeans.inertia_)\n",
    "\n",
    "# Plotting the elbow plot\n",
    "plt.figure(figsize=(8, 6))\n",
    "plt.plot(range(1, 11), sse, marker='o', linestyle='-', color='b')\n",
    "plt.title('Elbow Plot for Optimal Number of Clusters')\n",
    "plt.xlabel('Number of Clusters')\n",
    "plt.ylabel('SSE (Sum of Squared Errors)')\n",
    "plt.show()"
   ]
  },
  {
   "cell_type": "markdown",
   "id": "88fbd3cb",
   "metadata": {},
   "source": [
    "Based on the elbow plot analysis, it is determined that the optimal number of clusters for the dataset is 4 clusters. This means that the crops in the dataset can be grouped into 4 distinct clusters, each representing a different set of characteristics or similarities among the crops."
   ]
  },
  {
   "cell_type": "code",
   "execution_count": 16,
   "id": "7ead1bc9",
   "metadata": {
    "scrolled": true
   },
   "outputs": [
    {
     "name": "stdout",
     "output_type": "stream",
     "text": [
      "Cluster 1 crops: ['maize' 'chickpea' 'kidneybeans' 'pigeonpeas' 'mothbeans' 'mungbean'\n",
      " 'blackgram' 'lentil' 'pomegranate' 'mango' 'orange' 'papaya' 'coconut']\n",
      "--------------------------------------------------------------------------\n",
      "Cluster 2 crops: ['maize' 'banana' 'watermelon' 'muskmelon' 'papaya' 'cotton' 'coffee']\n",
      "--------------------------------------------------------------------------\n",
      "Cluster 3 crops: ['grapes' 'apple']\n",
      "--------------------------------------------------------------------------\n",
      "Cluster 4 crops: ['rice' 'pigeonpeas' 'papaya' 'coconut' 'jute' 'coffee']\n",
      "--------------------------------------------------------------------------\n"
     ]
    }
   ],
   "source": [
    "# Perform k-means clustering with the optimal number of clusters\n",
    "k = 4\n",
    "optimal_kmeans = KMeans(n_clusters = k, random_state = 0)\n",
    "data['cluster'] = optimal_kmeans.fit_predict(x_data)\n",
    "\n",
    "# Display the crops in each cluster\n",
    "for i in range(k):\n",
    "    cluster_crops = data[data['cluster'] == i]['label'].unique()\n",
    "    print(f'Cluster {i+1} crops:', cluster_crops)\n",
    "    print('--------------------------------------------------------------------------')\n"
   ]
  },
  {
   "cell_type": "markdown",
   "id": "a4f5514f",
   "metadata": {},
   "source": [
    "Each cluster contains specific crops that tend to exhibit similarities in terms of their requirements, growth patterns, or other factors. \n",
    "Cluster 1 includes a diverse range of crops such as maize, chickpea, kidney beans, pigeonpeas, lentil and others. Cluster 2 consists of crops like maize, banana, watermelon, and muskmelon, along with papaya, cotton, and coffee. Cluster 3 is composed of grapes and apple. Lastly, Cluster 4 includes crops such as rice, pigeonpeas, papaya, coconut, jute, and coffee.\n",
    "\n",
    "These cluster assignments can provide insights for agricultural producers in terms of identifying groups of crops that share common characteristics and may require similar cultivation practices or environmental conditions."
   ]
  },
  {
   "cell_type": "markdown",
   "id": "c59a6113",
   "metadata": {},
   "source": [
    "# Predictive Model"
   ]
  },
  {
   "cell_type": "markdown",
   "id": "4c7483e4",
   "metadata": {},
   "source": [
    "In developing the predictive model, a machine learning approach will be employed to categorize suitable crops based on identified soil and climatic conditions. The dataset will be partitioned into training (80%) and testing (20%) data to facilitate robust model training and evaluation. Logistic Regression will be used because of its probabilistic nature and adaptability in handling multi-class classification/clustering scenarios. By leveraging the strengths of logistic regression, the likelihood of an observation falling into a specific class based on its associated features can be accurately predicted."
   ]
  },
  {
   "cell_type": "code",
   "execution_count": 17,
   "id": "def51c69",
   "metadata": {},
   "outputs": [
    {
     "name": "stdout",
     "output_type": "stream",
     "text": [
      "Accuracy: 0.97\n",
      "\n",
      "Confusion Matrix:\n",
      "[[18  0  0  0  0  0  0  0  0  0  0  0  0  0  0  0  0  0  0  0  0  0]\n",
      " [ 0 18  0  0  0  0  0  0  0  0  0  0  0  0  0  0  0  0  0  0  0  0]\n",
      " [ 0  0 18  0  0  0  0  0  0  0  1  1  0  2  0  0  0  0  0  0  0  0]\n",
      " [ 0  0  0 23  0  0  0  0  0  0  0  0  0  0  0  0  0  0  0  0  0  0]\n",
      " [ 0  0  0  0 15  0  0  0  0  0  0  0  0  0  0  0  0  0  0  0  0  0]\n",
      " [ 0  0  0  0  0 17  0  0  0  0  0  0  0  0  0  0  0  0  0  0  0  0]\n",
      " [ 0  0  0  0  0  0 16  0  0  0  0  0  0  0  0  0  0  0  0  0  0  0]\n",
      " [ 0  0  0  0  0  0  0 18  0  0  0  0  0  0  0  0  0  0  0  0  0  0]\n",
      " [ 0  0  0  0  0  0  0  0 21  0  0  0  0  0  0  0  0  0  0  0  0  0]\n",
      " [ 0  0  0  0  0  0  0  0  0 20  0  0  0  0  0  0  0  0  0  0  0  0]\n",
      " [ 0  0  1  0  0  0  0  0  0  0 16  0  0  0  0  0  0  0  0  0  0  0]\n",
      " [ 0  0  0  0  0  0  2  0  0  0  0 16  0  0  0  0  0  0  0  0  0  0]\n",
      " [ 0  0  0  0  0  0  0  0  0  0  0  0 21  0  0  0  0  0  0  0  0  0]\n",
      " [ 0  0  2  0  0  0  0  0  0  0  0  0  0 23  0  0  0  0  0  0  0  0]\n",
      " [ 0  0  0  0  0  0  0  0  0  0  0  0  0  0 17  0  0  0  0  0  0  0]\n",
      " [ 0  0  0  0  0  0  0  0  0  0  0  0  0  0  0 23  0  0  0  0  0  0]\n",
      " [ 0  0  0  0  0  0  0  0  0  0  0  0  0  0  0  0 23  0  0  0  0  0]\n",
      " [ 0  0  0  0  0  0  0  0  0  0  0  0  0  1  0  0  0 20  0  0  0  0]\n",
      " [ 0  0  0  0  0  0  0  0  0  0  0  0  0  0  0  0  0  0 22  0  0  0]\n",
      " [ 0  0  0  0  0  0  0  0  0  0  0  0  0  0  0  0  0  0  0 23  0  0]\n",
      " [ 0  0  0  0  0  0  0  0  4  0  0  0  0  0  0  0  0  0  0  0 21  0]\n",
      " [ 0  0  0  0  0  0  0  0  0  0  0  0  0  0  0  0  0  0  0  0  0 17]]\n",
      "\n",
      "Classification Report:\n",
      "              precision    recall  f1-score   support\n",
      "\n",
      "       apple       1.00      1.00      1.00        18\n",
      "      banana       1.00      1.00      1.00        18\n",
      "   blackgram       0.86      0.82      0.84        22\n",
      "    chickpea       1.00      1.00      1.00        23\n",
      "     coconut       1.00      1.00      1.00        15\n",
      "      coffee       1.00      1.00      1.00        17\n",
      "      cotton       0.89      1.00      0.94        16\n",
      "      grapes       1.00      1.00      1.00        18\n",
      "        jute       0.84      1.00      0.91        21\n",
      " kidneybeans       1.00      1.00      1.00        20\n",
      "      lentil       0.94      0.94      0.94        17\n",
      "       maize       0.94      0.89      0.91        18\n",
      "       mango       1.00      1.00      1.00        21\n",
      "   mothbeans       0.88      0.92      0.90        25\n",
      "    mungbean       1.00      1.00      1.00        17\n",
      "   muskmelon       1.00      1.00      1.00        23\n",
      "      orange       1.00      1.00      1.00        23\n",
      "      papaya       1.00      0.95      0.98        21\n",
      "  pigeonpeas       1.00      1.00      1.00        22\n",
      " pomegranate       1.00      1.00      1.00        23\n",
      "        rice       1.00      0.84      0.91        25\n",
      "  watermelon       1.00      1.00      1.00        17\n",
      "\n",
      "    accuracy                           0.97       440\n",
      "   macro avg       0.97      0.97      0.97       440\n",
      "weighted avg       0.97      0.97      0.97       440\n",
      "\n"
     ]
    }
   ],
   "source": [
    "# x_data is the feature data\n",
    "x = x_data\n",
    "# data['label'] is the target variable\n",
    "y = data['label']\n",
    "\n",
    "\n",
    "# Split data into training and testing sets (80% training, 20% testing)\n",
    "x_train, x_test, y_train, y_test = train_test_split(x, y, test_size = 0.2, random_state=0)\n",
    "\n",
    "# Initialize the Logistic Regression model\n",
    "model = LogisticRegression(random_state = 0)\n",
    "\n",
    "# Train the model on the training data\n",
    "model.fit(x_train, y_train)\n",
    "\n",
    "# Make predictions on the test data\n",
    "y_pred = model.predict(x_test)\n",
    "\n",
    "# Evaluate the model performance\n",
    "accuracy = accuracy_score(y_test, y_pred)\n",
    "conf_matrix = confusion_matrix(y_test, y_pred)\n",
    "classification_rep = classification_report(y_test, y_pred)\n",
    "\n",
    "# Print the evaluation metrics\n",
    "print(f\"Accuracy: {accuracy:.2f}\")\n",
    "print(\"\\nConfusion Matrix:\")\n",
    "print(conf_matrix)\n",
    "print(\"\\nClassification Report:\")\n",
    "print(classification_rep)\n"
   ]
  },
  {
   "cell_type": "markdown",
   "id": "4d2eb630",
   "metadata": {},
   "source": [
    "The model achieved an impressive accuracy of 97%, underscoring its efficacy in predicting crop categories with a high level of correctness. The confusion matrix provided additional insights into the model's performance, detailing the counts of true positive, true negative, false positive, and false negative predictions for each crop category. Furthermore, the evaluation metrics such as precision, recall, and F1-score for individual crop classes, offers a understanding of the model's effectiveness across diverse agricultural crop categories. \n",
    "\n",
    "This predictive model, shows promising potential for assisting users in making informed decisions about optimal crop selection based on prevailing environmental conditions, thereby contributing to enhanced agricultural practices and productivity."
   ]
  },
  {
   "cell_type": "markdown",
   "id": "4aa75c8c",
   "metadata": {},
   "source": [
    "The next step is to evaluate the accuracy of the prediction model.  I will input the soil and climatic conditions into the model and observe the output. The output will indicate the crop that is most suitable for the given conditions. By comparing the predicted crop with the actual crop that is ideal for the provided soil and climatic conditions, I can assess the accuracy of the model in making appropriate crop recommendations. This evaluation process will help in determining the effectiveness and reliability of the prediction model in suggesting the most suitable crops based on the given soil and climatic factors."
   ]
  },
  {
   "cell_type": "code",
   "execution_count": 18,
   "id": "f407b749",
   "metadata": {
    "scrolled": false
   },
   "outputs": [
    {
     "data": {
      "text/html": [
       "<div>\n",
       "<style scoped>\n",
       "    .dataframe tbody tr th:only-of-type {\n",
       "        vertical-align: middle;\n",
       "    }\n",
       "\n",
       "    .dataframe tbody tr th {\n",
       "        vertical-align: top;\n",
       "    }\n",
       "\n",
       "    .dataframe thead th {\n",
       "        text-align: right;\n",
       "    }\n",
       "</style>\n",
       "<table border=\"1\" class=\"dataframe\">\n",
       "  <thead>\n",
       "    <tr style=\"text-align: right;\">\n",
       "      <th></th>\n",
       "      <th>N</th>\n",
       "      <th>P</th>\n",
       "      <th>K</th>\n",
       "      <th>temperature</th>\n",
       "      <th>humidity</th>\n",
       "      <th>ph</th>\n",
       "      <th>rainfall</th>\n",
       "      <th>label</th>\n",
       "      <th>cluster</th>\n",
       "    </tr>\n",
       "  </thead>\n",
       "  <tbody>\n",
       "    <tr>\n",
       "      <th>0</th>\n",
       "      <td>90</td>\n",
       "      <td>42</td>\n",
       "      <td>43</td>\n",
       "      <td>20.879744</td>\n",
       "      <td>82.002744</td>\n",
       "      <td>6.502985</td>\n",
       "      <td>202.935536</td>\n",
       "      <td>rice</td>\n",
       "      <td>3</td>\n",
       "    </tr>\n",
       "    <tr>\n",
       "      <th>1</th>\n",
       "      <td>85</td>\n",
       "      <td>58</td>\n",
       "      <td>41</td>\n",
       "      <td>21.770462</td>\n",
       "      <td>80.319644</td>\n",
       "      <td>7.038096</td>\n",
       "      <td>226.655537</td>\n",
       "      <td>rice</td>\n",
       "      <td>3</td>\n",
       "    </tr>\n",
       "    <tr>\n",
       "      <th>2</th>\n",
       "      <td>60</td>\n",
       "      <td>55</td>\n",
       "      <td>44</td>\n",
       "      <td>23.004459</td>\n",
       "      <td>82.320763</td>\n",
       "      <td>7.840207</td>\n",
       "      <td>263.964248</td>\n",
       "      <td>rice</td>\n",
       "      <td>3</td>\n",
       "    </tr>\n",
       "    <tr>\n",
       "      <th>3</th>\n",
       "      <td>74</td>\n",
       "      <td>35</td>\n",
       "      <td>40</td>\n",
       "      <td>26.491096</td>\n",
       "      <td>80.158363</td>\n",
       "      <td>6.980401</td>\n",
       "      <td>242.864034</td>\n",
       "      <td>rice</td>\n",
       "      <td>3</td>\n",
       "    </tr>\n",
       "    <tr>\n",
       "      <th>4</th>\n",
       "      <td>78</td>\n",
       "      <td>42</td>\n",
       "      <td>42</td>\n",
       "      <td>20.130175</td>\n",
       "      <td>81.604873</td>\n",
       "      <td>7.628473</td>\n",
       "      <td>262.717340</td>\n",
       "      <td>rice</td>\n",
       "      <td>3</td>\n",
       "    </tr>\n",
       "  </tbody>\n",
       "</table>\n",
       "</div>"
      ],
      "text/plain": [
       "    N   P   K  temperature   humidity        ph    rainfall label  cluster\n",
       "0  90  42  43    20.879744  82.002744  6.502985  202.935536  rice        3\n",
       "1  85  58  41    21.770462  80.319644  7.038096  226.655537  rice        3\n",
       "2  60  55  44    23.004459  82.320763  7.840207  263.964248  rice        3\n",
       "3  74  35  40    26.491096  80.158363  6.980401  242.864034  rice        3\n",
       "4  78  42  42    20.130175  81.604873  7.628473  262.717340  rice        3"
      ]
     },
     "execution_count": 18,
     "metadata": {},
     "output_type": "execute_result"
    }
   ],
   "source": [
    "# Check data\n",
    "data.head()"
   ]
  },
  {
   "cell_type": "code",
   "execution_count": 20,
   "id": "b60acf50",
   "metadata": {},
   "outputs": [
    {
     "name": "stdout",
     "output_type": "stream",
     "text": [
      "The suggested crop for given condition is :  ['rice']\n"
     ]
    }
   ],
   "source": [
    "# Make predictions\n",
    "input_conditions = [[89, 40, 42, 20, 81, 7, 200]]\n",
    "prediction = model.predict(input_conditions)\n",
    "\n",
    "# Print the predicted crop\n",
    "print(\"The suggested crop for given condition is : \", prediction)                             "
   ]
  },
  {
   "cell_type": "code",
   "execution_count": 27,
   "id": "7bfac244",
   "metadata": {},
   "outputs": [
    {
     "data": {
      "text/html": [
       "<div>\n",
       "<style scoped>\n",
       "    .dataframe tbody tr th:only-of-type {\n",
       "        vertical-align: middle;\n",
       "    }\n",
       "\n",
       "    .dataframe tbody tr th {\n",
       "        vertical-align: top;\n",
       "    }\n",
       "\n",
       "    .dataframe thead th {\n",
       "        text-align: right;\n",
       "    }\n",
       "</style>\n",
       "<table border=\"1\" class=\"dataframe\">\n",
       "  <thead>\n",
       "    <tr style=\"text-align: right;\">\n",
       "      <th></th>\n",
       "      <th>N</th>\n",
       "      <th>P</th>\n",
       "      <th>K</th>\n",
       "      <th>temperature</th>\n",
       "      <th>humidity</th>\n",
       "      <th>ph</th>\n",
       "      <th>rainfall</th>\n",
       "      <th>label</th>\n",
       "      <th>cluster</th>\n",
       "    </tr>\n",
       "  </thead>\n",
       "  <tbody>\n",
       "    <tr>\n",
       "      <th>1200</th>\n",
       "      <td>24</td>\n",
       "      <td>130</td>\n",
       "      <td>195</td>\n",
       "      <td>29.996772</td>\n",
       "      <td>81.541566</td>\n",
       "      <td>6.112306</td>\n",
       "      <td>67.125345</td>\n",
       "      <td>grapes</td>\n",
       "      <td>2</td>\n",
       "    </tr>\n",
       "    <tr>\n",
       "      <th>1201</th>\n",
       "      <td>13</td>\n",
       "      <td>144</td>\n",
       "      <td>204</td>\n",
       "      <td>30.728040</td>\n",
       "      <td>82.426141</td>\n",
       "      <td>6.092242</td>\n",
       "      <td>68.381355</td>\n",
       "      <td>grapes</td>\n",
       "      <td>2</td>\n",
       "    </tr>\n",
       "    <tr>\n",
       "      <th>1202</th>\n",
       "      <td>22</td>\n",
       "      <td>123</td>\n",
       "      <td>205</td>\n",
       "      <td>32.445778</td>\n",
       "      <td>83.885049</td>\n",
       "      <td>5.896343</td>\n",
       "      <td>68.739325</td>\n",
       "      <td>grapes</td>\n",
       "      <td>2</td>\n",
       "    </tr>\n",
       "    <tr>\n",
       "      <th>1203</th>\n",
       "      <td>36</td>\n",
       "      <td>125</td>\n",
       "      <td>196</td>\n",
       "      <td>37.465668</td>\n",
       "      <td>80.659687</td>\n",
       "      <td>6.155261</td>\n",
       "      <td>66.838723</td>\n",
       "      <td>grapes</td>\n",
       "      <td>2</td>\n",
       "    </tr>\n",
       "    <tr>\n",
       "      <th>1204</th>\n",
       "      <td>24</td>\n",
       "      <td>131</td>\n",
       "      <td>196</td>\n",
       "      <td>22.032962</td>\n",
       "      <td>83.743728</td>\n",
       "      <td>5.732454</td>\n",
       "      <td>65.344408</td>\n",
       "      <td>grapes</td>\n",
       "      <td>2</td>\n",
       "    </tr>\n",
       "  </tbody>\n",
       "</table>\n",
       "</div>"
      ],
      "text/plain": [
       "       N    P    K  temperature   humidity        ph   rainfall   label  \\\n",
       "1200  24  130  195    29.996772  81.541566  6.112306  67.125345  grapes   \n",
       "1201  13  144  204    30.728040  82.426141  6.092242  68.381355  grapes   \n",
       "1202  22  123  205    32.445778  83.885049  5.896343  68.739325  grapes   \n",
       "1203  36  125  196    37.465668  80.659687  6.155261  66.838723  grapes   \n",
       "1204  24  131  196    22.032962  83.743728  5.732454  65.344408  grapes   \n",
       "\n",
       "      cluster  \n",
       "1200        2  \n",
       "1201        2  \n",
       "1202        2  \n",
       "1203        2  \n",
       "1204        2  "
      ]
     },
     "execution_count": 27,
     "metadata": {},
     "output_type": "execute_result"
    }
   ],
   "source": [
    "#Check the true conditions for grape and compare\n",
    "data[data['label'] == 'grapes'].head()"
   ]
  },
  {
   "cell_type": "code",
   "execution_count": 28,
   "id": "5ecaa97d",
   "metadata": {},
   "outputs": [
    {
     "name": "stdout",
     "output_type": "stream",
     "text": [
      "The suggested crop for given condition is :  ['grapes']\n"
     ]
    }
   ],
   "source": [
    "# Make predictions\n",
    "input_conditions = [[25, 145, 203, 32, 83, 6.0, 65]]\n",
    "prediction = model.predict(input_conditions)\n",
    "\n",
    "# Print the predicted crop\n",
    "print(\"The suggested crop for given condition is : \", prediction)                             "
   ]
  },
  {
   "cell_type": "code",
   "execution_count": 29,
   "id": "b063aa83",
   "metadata": {
    "scrolled": true
   },
   "outputs": [
    {
     "data": {
      "text/html": [
       "<div>\n",
       "<style scoped>\n",
       "    .dataframe tbody tr th:only-of-type {\n",
       "        vertical-align: middle;\n",
       "    }\n",
       "\n",
       "    .dataframe tbody tr th {\n",
       "        vertical-align: top;\n",
       "    }\n",
       "\n",
       "    .dataframe thead th {\n",
       "        text-align: right;\n",
       "    }\n",
       "</style>\n",
       "<table border=\"1\" class=\"dataframe\">\n",
       "  <thead>\n",
       "    <tr style=\"text-align: right;\">\n",
       "      <th></th>\n",
       "      <th>N</th>\n",
       "      <th>P</th>\n",
       "      <th>K</th>\n",
       "      <th>temperature</th>\n",
       "      <th>humidity</th>\n",
       "      <th>ph</th>\n",
       "      <th>rainfall</th>\n",
       "      <th>label</th>\n",
       "      <th>cluster</th>\n",
       "    </tr>\n",
       "  </thead>\n",
       "  <tbody>\n",
       "    <tr>\n",
       "      <th>800</th>\n",
       "      <td>32</td>\n",
       "      <td>76</td>\n",
       "      <td>15</td>\n",
       "      <td>28.051536</td>\n",
       "      <td>63.498022</td>\n",
       "      <td>7.604110</td>\n",
       "      <td>43.357954</td>\n",
       "      <td>lentil</td>\n",
       "      <td>0</td>\n",
       "    </tr>\n",
       "    <tr>\n",
       "      <th>801</th>\n",
       "      <td>13</td>\n",
       "      <td>61</td>\n",
       "      <td>22</td>\n",
       "      <td>19.440843</td>\n",
       "      <td>63.277715</td>\n",
       "      <td>7.728832</td>\n",
       "      <td>46.831301</td>\n",
       "      <td>lentil</td>\n",
       "      <td>0</td>\n",
       "    </tr>\n",
       "    <tr>\n",
       "      <th>802</th>\n",
       "      <td>38</td>\n",
       "      <td>60</td>\n",
       "      <td>20</td>\n",
       "      <td>29.848231</td>\n",
       "      <td>60.638726</td>\n",
       "      <td>7.491217</td>\n",
       "      <td>46.804526</td>\n",
       "      <td>lentil</td>\n",
       "      <td>0</td>\n",
       "    </tr>\n",
       "    <tr>\n",
       "      <th>803</th>\n",
       "      <td>11</td>\n",
       "      <td>74</td>\n",
       "      <td>17</td>\n",
       "      <td>21.363838</td>\n",
       "      <td>69.923759</td>\n",
       "      <td>6.633865</td>\n",
       "      <td>46.635286</td>\n",
       "      <td>lentil</td>\n",
       "      <td>0</td>\n",
       "    </tr>\n",
       "    <tr>\n",
       "      <th>804</th>\n",
       "      <td>37</td>\n",
       "      <td>71</td>\n",
       "      <td>16</td>\n",
       "      <td>26.286639</td>\n",
       "      <td>68.519667</td>\n",
       "      <td>7.324863</td>\n",
       "      <td>46.138330</td>\n",
       "      <td>lentil</td>\n",
       "      <td>0</td>\n",
       "    </tr>\n",
       "  </tbody>\n",
       "</table>\n",
       "</div>"
      ],
      "text/plain": [
       "      N   P   K  temperature   humidity        ph   rainfall   label  cluster\n",
       "800  32  76  15    28.051536  63.498022  7.604110  43.357954  lentil        0\n",
       "801  13  61  22    19.440843  63.277715  7.728832  46.831301  lentil        0\n",
       "802  38  60  20    29.848231  60.638726  7.491217  46.804526  lentil        0\n",
       "803  11  74  17    21.363838  69.923759  6.633865  46.635286  lentil        0\n",
       "804  37  71  16    26.286639  68.519667  7.324863  46.138330  lentil        0"
      ]
     },
     "execution_count": 29,
     "metadata": {},
     "output_type": "execute_result"
    }
   ],
   "source": [
    "data[data['label'] == 'lentil'].head()"
   ]
  },
  {
   "cell_type": "code",
   "execution_count": 30,
   "id": "f0918701",
   "metadata": {},
   "outputs": [
    {
     "name": "stdout",
     "output_type": "stream",
     "text": [
      "The suggested crop for given condition is :  ['lentil']\n"
     ]
    }
   ],
   "source": [
    "# Now you can make predictions\n",
    "input_conditions = [[32, 76, 15, 28.05, 69, 7.5, 46]]\n",
    "prediction = model.predict(input_conditions)\n",
    "\n",
    "# Print the predicted crop\n",
    "print(\"The suggested crop for given condition is : \", prediction)      "
   ]
  },
  {
   "cell_type": "code",
   "execution_count": 31,
   "id": "351ae16d",
   "metadata": {
    "scrolled": false
   },
   "outputs": [
    {
     "name": "stdout",
     "output_type": "stream",
     "text": [
      "The suggested crop for given condition is :  ['orange']\n"
     ]
    }
   ],
   "source": [
    "# Now you can make predictions\n",
    "input_conditions = [[20, 30, 10, 15, 90, 7.5, 100]]\n",
    "prediction = model.predict(input_conditions)\n",
    "\n",
    "# Print the predicted crop\n",
    "print(\"The suggested crop for given condition is : \", prediction)      "
   ]
  },
  {
   "cell_type": "code",
   "execution_count": 32,
   "id": "f1cb98b6",
   "metadata": {
    "scrolled": true
   },
   "outputs": [
    {
     "data": {
      "text/html": [
       "<div>\n",
       "<style scoped>\n",
       "    .dataframe tbody tr th:only-of-type {\n",
       "        vertical-align: middle;\n",
       "    }\n",
       "\n",
       "    .dataframe tbody tr th {\n",
       "        vertical-align: top;\n",
       "    }\n",
       "\n",
       "    .dataframe thead th {\n",
       "        text-align: right;\n",
       "    }\n",
       "</style>\n",
       "<table border=\"1\" class=\"dataframe\">\n",
       "  <thead>\n",
       "    <tr style=\"text-align: right;\">\n",
       "      <th></th>\n",
       "      <th>N</th>\n",
       "      <th>P</th>\n",
       "      <th>K</th>\n",
       "      <th>temperature</th>\n",
       "      <th>humidity</th>\n",
       "      <th>ph</th>\n",
       "      <th>rainfall</th>\n",
       "      <th>label</th>\n",
       "      <th>cluster</th>\n",
       "    </tr>\n",
       "  </thead>\n",
       "  <tbody>\n",
       "    <tr>\n",
       "      <th>1600</th>\n",
       "      <td>22</td>\n",
       "      <td>30</td>\n",
       "      <td>12</td>\n",
       "      <td>15.781442</td>\n",
       "      <td>92.510777</td>\n",
       "      <td>6.354007</td>\n",
       "      <td>119.035002</td>\n",
       "      <td>orange</td>\n",
       "      <td>0</td>\n",
       "    </tr>\n",
       "    <tr>\n",
       "      <th>1601</th>\n",
       "      <td>37</td>\n",
       "      <td>6</td>\n",
       "      <td>13</td>\n",
       "      <td>26.030973</td>\n",
       "      <td>91.508193</td>\n",
       "      <td>7.511755</td>\n",
       "      <td>101.284774</td>\n",
       "      <td>orange</td>\n",
       "      <td>0</td>\n",
       "    </tr>\n",
       "    <tr>\n",
       "      <th>1602</th>\n",
       "      <td>27</td>\n",
       "      <td>13</td>\n",
       "      <td>6</td>\n",
       "      <td>13.360506</td>\n",
       "      <td>91.356082</td>\n",
       "      <td>7.335158</td>\n",
       "      <td>111.226688</td>\n",
       "      <td>orange</td>\n",
       "      <td>0</td>\n",
       "    </tr>\n",
       "    <tr>\n",
       "      <th>1603</th>\n",
       "      <td>7</td>\n",
       "      <td>16</td>\n",
       "      <td>9</td>\n",
       "      <td>18.879577</td>\n",
       "      <td>92.043045</td>\n",
       "      <td>7.813917</td>\n",
       "      <td>114.665951</td>\n",
       "      <td>orange</td>\n",
       "      <td>0</td>\n",
       "    </tr>\n",
       "    <tr>\n",
       "      <th>1604</th>\n",
       "      <td>20</td>\n",
       "      <td>7</td>\n",
       "      <td>9</td>\n",
       "      <td>29.477417</td>\n",
       "      <td>91.578029</td>\n",
       "      <td>7.129137</td>\n",
       "      <td>111.172750</td>\n",
       "      <td>orange</td>\n",
       "      <td>0</td>\n",
       "    </tr>\n",
       "  </tbody>\n",
       "</table>\n",
       "</div>"
      ],
      "text/plain": [
       "       N   P   K  temperature   humidity        ph    rainfall   label  \\\n",
       "1600  22  30  12    15.781442  92.510777  6.354007  119.035002  orange   \n",
       "1601  37   6  13    26.030973  91.508193  7.511755  101.284774  orange   \n",
       "1602  27  13   6    13.360506  91.356082  7.335158  111.226688  orange   \n",
       "1603   7  16   9    18.879577  92.043045  7.813917  114.665951  orange   \n",
       "1604  20   7   9    29.477417  91.578029  7.129137  111.172750  orange   \n",
       "\n",
       "      cluster  \n",
       "1600        0  \n",
       "1601        0  \n",
       "1602        0  \n",
       "1603        0  \n",
       "1604        0  "
      ]
     },
     "execution_count": 32,
     "metadata": {},
     "output_type": "execute_result"
    }
   ],
   "source": [
    "#Check the true conditions for orange and compare\n",
    "data[data['label'] == 'orange'].head()"
   ]
  },
  {
   "cell_type": "markdown",
   "id": "ed05fc6d",
   "metadata": {},
   "source": [
    "Based on the provided input conditions and the subsequent prediction, the model appears to be performing effectively. The suggested crops, 'rice', 'lentil' and 'grape' aligns well with the specified combination of soil and climatic factors, including nitrogen (N), phosphorus (P), potassium (K), temperature, humidity, pH, and rainfall. The high accuracy of the model, as demonstrated by an accuracy score of 97%, along with a comprehensive evaluation using metrics such as precision, recall, and the confusion matrix, further supports its reliability. The consistency between the predicted crop and the expected outcomes based on domain knowledge and historical data reinforces the confidence in the model's ability to recommend suitable crops for given agricultural conditions. Continuous monitoring and validation against real-world observations will contribute to ongoing improvements, ensuring the model remains a valuable tool for crop recommendation in diverse agricultural scenarios."
   ]
  }
 ],
 "metadata": {
  "kernelspec": {
   "display_name": "Python 3 (ipykernel)",
   "language": "python",
   "name": "python3"
  },
  "language_info": {
   "codemirror_mode": {
    "name": "ipython",
    "version": 3
   },
   "file_extension": ".py",
   "mimetype": "text/x-python",
   "name": "python",
   "nbconvert_exporter": "python",
   "pygments_lexer": "ipython3",
   "version": "3.10.9"
  }
 },
 "nbformat": 4,
 "nbformat_minor": 5
}
